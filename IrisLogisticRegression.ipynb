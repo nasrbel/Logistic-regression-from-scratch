# -*- coding: utf-8 -*-
"""
@date: 18 january 2019
@author: nasreedine belguith 
@mail: nasreedine.belguith@gmail.com
 

    """
import numpy as np
from sklearn import datasets
import matplotlib.pyplot as plt
#We work on the iris dataset imported from sklearn 
iris = datasets.load_iris()
#the predictor is X 
X = iris.data[:, :2]
#The binary variable is y 
y = (iris.target != 0) * 1
#The predictor X is composed of two rows so we add a third one
    def __add_intercept(X):
        intercept = np.ones((X.shape[0], 1))
        return np.concatenate((intercept, X), axis=1)
#define the sigmoid function
def __sigmoid(z):
        return 1 / (1 + np.exp(-z))
#define the loss function J 
def __loss(h, y):
        return (-y * np.log(h) - (1 - y) * np.log(1 - h)).mean()
#Compute the parameter matrix and the loss function
def fit(fit_intercept,lr,verbose,num_iter, X, y):
        if fit_intercept:
            X = __add_intercept(X)
        # weights initialization
        theta = np.zeros(X.shape[1])
       # print(theta)
        for i in range(num_iter):
            z = np.dot(X,theta)
            h = __sigmoid(z)
            gradient = np.dot(X.T, (h - y)) / y.size
            theta -= lr * gradient
        
            z = np.dot(X,theta)
            h = __sigmoid(z)
            loss = __loss(h, y)
        return theta 
        if(verbose ==True and i % 10000 == 0):
            print(f'loss: {loss} \t')
             
#compute the probability 
def predict_prob(fit_intercept,theta,X):
        if fit_intercept:
            X = __add_intercept(X)
        return __sigmoid(np.dot(X,theta))
#compute the output Y
def predict(fit_intercept,theta,X):
        return predict_prob(fit_intercept,theta,X).round()
fit(True,0.01,True,100000, X, y)
#estimate the parameter matrix
theta = fit(True,0.001,True,100000, X, y)
print(theta)
#predict the output variable Y 
preds = predict(True,theta,X)

(preds == y).mean().round()

#plot the separation between the different types (clusters) of iris flowers
plt.figure(figsize=(10, 6))
plt.scatter(X[y == 0][:, 0], X[y == 0][:, 1], color='b', label='0')
plt.scatter(X[y == 1][:, 0], X[y == 1][:, 1], color='r', label='1')
plt.legend()

x1_min, x1_max = X[:,0].min(), X[:,0].max(),
x2_min, x2_max = X[:,1].min(), X[:,1].max(),
print(x1_min)
xx1, xx2 = np.meshgrid(np.linspace(x1_min, x1_max), np.linspace(x2_min, x2_max))
grid = np.c_[xx1.ravel(), xx2.ravel()]
probs = predict_prob(True,theta ,grid).reshape(xx1.shape)
plt.contour(xx1, xx2, probs, [0.5], linewidths=1, colors='black');

