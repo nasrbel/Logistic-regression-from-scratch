print Logistic regression from scratch
